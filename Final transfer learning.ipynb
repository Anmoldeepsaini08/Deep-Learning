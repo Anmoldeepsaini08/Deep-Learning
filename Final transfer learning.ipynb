{
 "cells": [
  {
   "cell_type": "code",
   "execution_count": 1,
   "id": "07853292",
   "metadata": {},
   "outputs": [],
   "source": [
    "import os\n",
    "import cv2\n",
    "import numpy as np\n",
    "import matplotlib.pyplot as plt\n",
    "from sklearn.model_selection import train_test_split\n",
    "from tensorflow import keras\n",
    "from tensorflow.keras import layers\n",
    "import tensorflow as tf\n",
    "from tensorflow.keras.models import Sequential\n",
    "import tensorboard"
   ]
  },
  {
   "cell_type": "code",
   "execution_count": 2,
   "id": "f46a47bf",
   "metadata": {},
   "outputs": [],
   "source": [
    "\n",
    "img_height = 150\n",
    "img_width =150\n",
    "def image_processing(path):\n",
    "    folder_path = path#\"./simpsons/simpsons_dataset/\"\n",
    "    \n",
    "    data_path = os.listdir(folder_path)\n",
    "    X_image = []\n",
    "    Y_output = []\n",
    "    Y_label = []\n",
    "    count =0\n",
    "    #optimize it\n",
    "    \n",
    "    for category in data_path:\n",
    "        print(category)\n",
    "        path = os.path.join(f\"{folder_path}\",category)\n",
    "\n",
    "        Y_label.append(category)\n",
    "        for name in os.listdir(path):\n",
    "\n",
    "            image = os.path.join(f\"{path}/\",name)\n",
    "            image = cv2.imread(image)\n",
    "            if image is None:\n",
    "                print(\"Wrong Path\")\n",
    "            else:\n",
    "                resize_image = cv2.resize(image,(150,150))\n",
    "                #gray_scale = cv2.cvtColor(resize_image,cv2.COLOR_BGR2GRAY)\n",
    "            X_image.append(resize_image)\n",
    "            Y_output.append(count)\n",
    "        count +=1 \n",
    "        \n",
    "    X = np.array(X_image)\n",
    "    Y = np.array(Y_output)\n",
    "    X_final = X/255\n",
    "  \n",
    "    \n",
    "    return X_final,Y,Y_label,count\n",
    "    \n",
    "    "
   ]
  },
  {
   "cell_type": "code",
   "execution_count": 4,
   "id": "275956fa",
   "metadata": {},
   "outputs": [
    {
     "name": "stdout",
     "output_type": "stream",
     "text": [
      "Enter folder path: ./simpsons/simpsons_dataset/\n",
      "abraham_grampa_simpson\n",
      "agnes_skinner\n",
      "apu_nahasapeemapetilon\n",
      "barney_gumble\n",
      "bart_simpson\n",
      "carl_carlson\n",
      "charles_montgomery_burns\n",
      "chief_wiggum\n",
      "cletus_spuckler\n"
     ]
    }
   ],
   "source": [
    "path = input(\"Enter folder path: \")\n",
    "x_final,Y, Y_label,count = image_processing(path)\n",
    "\n",
    "\n",
    "x_train,x_test,y_train,y_test = train_test_split(x_final,Y,random_state=0)"
   ]
  },
  {
   "cell_type": "code",
   "execution_count": 13,
   "id": "2a445953",
   "metadata": {},
   "outputs": [],
   "source": [
    "# using sequential API\n",
    "\n",
    "model = Sequential([\n",
    "  \n",
    "    layers.Conv2D(128,4,padding='same',activation ='relu'),\n",
    "    layers.MaxPool2D(),\n",
    "    layers.Conv2D(64,4,padding='same',activation = 'relu'),\n",
    "    layers.MaxPool2D(),\n",
    "    layers.Conv2D(64,4,padding='same',activation = 'relu'),\n",
    "    layers.MaxPool2D(),\n",
    "    layers.Flatten(),\n",
    "    layers.Dense(128,activation='relu'),\n",
    "    layers.Dropout(0.3),\n",
    "    layers.Dense(count)\n",
    "    \n",
    "    \n",
    "])"
   ]
  },
  {
   "cell_type": "code",
   "execution_count": 14,
   "id": "6e9200b4",
   "metadata": {},
   "outputs": [],
   "source": [
    "#model = CustomModel(count)\n",
    "#tensorboard_callbacks = keras.callbacks.TensorBoard(log_dir=\"logs_simpsons/\",histogram_freq=1)\n",
    "model.compile(\n",
    "          loss      = tf.keras.losses.SparseCategoricalCrossentropy(from_logits=True),\n",
    "          metrics   = ['accuracy'],\n",
    "          optimizer = tf.keras.optimizers.Adam())"
   ]
  },
  {
   "cell_type": "code",
   "execution_count": 15,
   "id": "9eacc539",
   "metadata": {},
   "outputs": [
    {
     "name": "stdout",
     "output_type": "stream",
     "text": [
      "Epoch 1/2\n",
      "126/126 [==============================] - 217s 2s/step - loss: 1.5086 - accuracy: 0.4442\n",
      "Epoch 2/2\n",
      "126/126 [==============================] - 219s 2s/step - loss: 0.9615 - accuracy: 0.6770\n"
     ]
    },
    {
     "data": {
      "text/plain": [
       "<keras.callbacks.History at 0x145f20acf10>"
      ]
     },
     "execution_count": 15,
     "metadata": {},
     "output_type": "execute_result"
    }
   ],
   "source": [
    "model.fit(x_train,y_train,epochs=2,use_multiprocessing=True)"
   ]
  },
  {
   "cell_type": "code",
   "execution_count": 16,
   "id": "dc3438bc",
   "metadata": {},
   "outputs": [
    {
     "name": "stdout",
     "output_type": "stream",
     "text": [
      "Enter path(save model): new_transfer_learning\n",
      "INFO:tensorflow:Assets written to: new_transfer_learning\\assets\n"
     ]
    }
   ],
   "source": [
    "# saving model\n",
    "save_path = input(\"Enter path(save model): \")\n",
    "model.save(save_path)\n",
    "\n",
    "\n"
   ]
  },
  {
   "cell_type": "code",
   "execution_count": 17,
   "id": "9e608849",
   "metadata": {},
   "outputs": [],
   "source": [
    "from keras.models import load_model\n",
    "model_2 = load_model(\"new_transfer_learning/\")"
   ]
  },
  {
   "cell_type": "code",
   "execution_count": 21,
   "id": "bcaccf8b",
   "metadata": {},
   "outputs": [
    {
     "name": "stdout",
     "output_type": "stream",
     "text": [
      "Enter folder path: ./simpsons/transfer_learning\n",
      "comic_book_guy\n",
      "disco_stu\n",
      "edna_krabappel\n",
      "fat_tony\n",
      "gil\n",
      "groundskeeper_willie\n",
      "homer_simpson\n"
     ]
    }
   ],
   "source": [
    "path = input(\"Enter folder path: \")\n",
    "x_final,Y, Y_label,count = image_processing(path)\n",
    "\n",
    "\n",
    "x_train,x_test,y_train,y_test = train_test_split(x_final,Y,random_state=0)"
   ]
  },
  {
   "cell_type": "code",
   "execution_count": null,
   "id": "4211c6a6",
   "metadata": {},
   "outputs": [],
   "source": [
    "model_2.layers"
   ]
  },
  {
   "cell_type": "code",
   "execution_count": 22,
   "id": "de52ddeb",
   "metadata": {},
   "outputs": [],
   "source": [
    "for i in range(len(model_2.layers)-1):\n",
    "    model_2.layers[i].trainable = False"
   ]
  },
  {
   "cell_type": "code",
   "execution_count": 23,
   "id": "ab25d4f8",
   "metadata": {},
   "outputs": [],
   "source": [
    "new = model_2.layers[len(model_2.layers)-2].output\n",
    "new = layers.Dense(32)(new)\n",
    "new = layers.Dense(count)(new)\n",
    "new_model = tf.keras.Model(inputs = model_2.input,outputs = new)"
   ]
  },
  {
   "cell_type": "code",
   "execution_count": 24,
   "id": "7722aa21",
   "metadata": {},
   "outputs": [],
   "source": [
    "new_model.compile(optimizer='adam',\n",
    "             loss = keras.losses.SparseCategoricalCrossentropy(from_logits=True),\n",
    "              metrics=['accuracy']\n",
    "        )"
   ]
  },
  {
   "cell_type": "code",
   "execution_count": 26,
   "id": "aa35e46a",
   "metadata": {},
   "outputs": [
    {
     "name": "stdout",
     "output_type": "stream",
     "text": [
      "Epoch 1/2\n",
      "63/63 [==============================] - 28s 449ms/step - loss: 1.1411 - accuracy: 0.6262 - val_loss: 0.8638 - val_accuracy: 0.7083\n",
      "Epoch 2/2\n",
      "63/63 [==============================] - 32s 507ms/step - loss: 0.9047 - accuracy: 0.6819 - val_loss: 0.8263 - val_accuracy: 0.7123\n"
     ]
    }
   ],
   "source": [
    "hist_2 = new_model.fit(x_train,y_train,epochs=2,validation_split=0.2,use_multiprocessing=True)"
   ]
  },
  {
   "cell_type": "code",
   "execution_count": null,
   "id": "b27a6807",
   "metadata": {},
   "outputs": [],
   "source": []
  },
  {
   "cell_type": "code",
   "execution_count": null,
   "id": "5abff78d",
   "metadata": {},
   "outputs": [],
   "source": []
  }
 ],
 "metadata": {
  "kernelspec": {
   "display_name": "Python 3 (ipykernel)",
   "language": "python",
   "name": "python3"
  },
  "language_info": {
   "codemirror_mode": {
    "name": "ipython",
    "version": 3
   },
   "file_extension": ".py",
   "mimetype": "text/x-python",
   "name": "python",
   "nbconvert_exporter": "python",
   "pygments_lexer": "ipython3",
   "version": "3.9.9"
  }
 },
 "nbformat": 4,
 "nbformat_minor": 5
}
